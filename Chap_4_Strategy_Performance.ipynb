{
 "cells": [
  {
   "cell_type": "markdown",
   "id": "d03e6c86",
   "metadata": {},
   "source": [
    "## Calculating Strategy Performance\n",
    "\n",
    "In this notebook I want to define one function calculating the performace of a strategy and put them in a file called `Utils.py` for future usage.\n",
    "\n",
    "Once decided my strategy, I use the function `backtest_portfolio` to have the porfolio value over time as well as the asset values over time. From here I calulate the strategy performance."
   ]
  },
  {
   "cell_type": "code",
   "execution_count": 1,
   "id": "a757aade",
   "metadata": {},
   "outputs": [],
   "source": [
    "# importing the necessary libraries\n",
    "import pandas as pd\n",
    "import numpy as np\n",
    "import matplotlib.pyplot as plt\n",
    "import yfinance as yf"
   ]
  },
  {
   "cell_type": "code",
   "execution_count": 2,
   "id": "733d1d97",
   "metadata": {},
   "outputs": [],
   "source": [
    "plt.style.use('ggplot')"
   ]
  },
  {
   "cell_type": "code",
   "execution_count": 3,
   "id": "6b4ce0d5",
   "metadata": {},
   "outputs": [],
   "source": [
    "# importing necessary functions from Utils\n",
    "from Utils import prices, portfolio_prices, backtest_portfolio"
   ]
  },
  {
   "cell_type": "markdown",
   "id": "35a76281",
   "metadata": {},
   "source": [
    "#### 1. Total Return\n",
    "\n",
    "$$\\text{Total Return} = \\frac{P_{end} - P_{start}}{P_{start}}$$\n",
    "\n",
    "$P_{start}$ is my initial investment or the porftolio value at $t=0$; $P_{end}$ is the portfolio value at the end.\n",
    "Assuming no dividend distribution, $P_{end} - P_{start}$ is the total gain or loss from my investment."
   ]
  },
  {
   "cell_type": "markdown",
   "id": "d893b275",
   "metadata": {},
   "source": [
    "I define my strategy: assets to include in porfolio and their initial weights. Plus I decide to follow a *buy-and-hold* strategy."
   ]
  },
  {
   "cell_type": "code",
   "execution_count": 4,
   "id": "2ec7f8ca",
   "metadata": {},
   "outputs": [
    {
     "name": "stdout",
     "output_type": "stream",
     "text": [
      "[0.25, 0.25, 0.25, 0.25]\n"
     ]
    }
   ],
   "source": [
    "# asset's tickers\n",
    "tickers = ['CSSPX','EM710','ITPS','PHAU']\n",
    "# inital weights assigned per ticker\n",
    "initial_weights = [1/len(tickers) for tick in tickers]\n",
    "print(initial_weights)"
   ]
  },
  {
   "cell_type": "code",
   "execution_count": 5,
   "id": "4f31a367",
   "metadata": {},
   "outputs": [
    {
     "data": {
      "text/html": [
       "<div>\n",
       "<style scoped>\n",
       "    .dataframe tbody tr th:only-of-type {\n",
       "        vertical-align: middle;\n",
       "    }\n",
       "\n",
       "    .dataframe tbody tr th {\n",
       "        vertical-align: top;\n",
       "    }\n",
       "\n",
       "    .dataframe thead th {\n",
       "        text-align: right;\n",
       "    }\n",
       "</style>\n",
       "<table border=\"1\" class=\"dataframe\">\n",
       "  <thead>\n",
       "    <tr style=\"text-align: right;\">\n",
       "      <th></th>\n",
       "      <th>CSSPX</th>\n",
       "      <th>EM710</th>\n",
       "      <th>ITPS</th>\n",
       "      <th>PHAU</th>\n",
       "    </tr>\n",
       "    <tr>\n",
       "      <th>Date</th>\n",
       "      <th></th>\n",
       "      <th></th>\n",
       "      <th></th>\n",
       "      <th></th>\n",
       "    </tr>\n",
       "  </thead>\n",
       "  <tbody>\n",
       "    <tr>\n",
       "      <th>2010-05-19</th>\n",
       "      <td>72.849998</td>\n",
       "      <td>122.160004</td>\n",
       "      <td>133.350006</td>\n",
       "      <td>95.830002</td>\n",
       "    </tr>\n",
       "    <tr>\n",
       "      <th>2010-05-20</th>\n",
       "      <td>72.849998</td>\n",
       "      <td>122.199997</td>\n",
       "      <td>132.089996</td>\n",
       "      <td>95.070000</td>\n",
       "    </tr>\n",
       "    <tr>\n",
       "      <th>2010-05-21</th>\n",
       "      <td>72.849998</td>\n",
       "      <td>122.349998</td>\n",
       "      <td>130.199997</td>\n",
       "      <td>93.260002</td>\n",
       "    </tr>\n",
       "  </tbody>\n",
       "</table>\n",
       "</div>"
      ],
      "text/plain": [
       "                CSSPX       EM710        ITPS       PHAU\n",
       "Date                                                    \n",
       "2010-05-19  72.849998  122.160004  133.350006  95.830002\n",
       "2010-05-20  72.849998  122.199997  132.089996  95.070000\n",
       "2010-05-21  72.849998  122.349998  130.199997  93.260002"
      ]
     },
     "execution_count": 5,
     "metadata": {},
     "output_type": "execute_result"
    }
   ],
   "source": [
    "# taking single asset prices\n",
    "data = []\n",
    "for tick in tickers:\n",
    "    data.append(prices(ticker=tick))\n",
    "\n",
    "# structuring asset prices in a DataFrame\n",
    "pf_prices = portfolio_prices(data)\n",
    "\n",
    "pf_prices.head(3)"
   ]
  },
  {
   "cell_type": "markdown",
   "id": "a33cff7c",
   "metadata": {},
   "source": [
    "Now I backtest my strategy, that is I calculate my porftolio value over time based on the historical asset prices in the `pf_prices` DataFrame."
   ]
  },
  {
   "cell_type": "code",
   "execution_count": 6,
   "id": "e4d7513a",
   "metadata": {},
   "outputs": [
    {
     "data": {
      "text/html": [
       "<div>\n",
       "<style scoped>\n",
       "    .dataframe tbody tr th:only-of-type {\n",
       "        vertical-align: middle;\n",
       "    }\n",
       "\n",
       "    .dataframe tbody tr th {\n",
       "        vertical-align: top;\n",
       "    }\n",
       "\n",
       "    .dataframe thead th {\n",
       "        text-align: right;\n",
       "    }\n",
       "</style>\n",
       "<table border=\"1\" class=\"dataframe\">\n",
       "  <thead>\n",
       "    <tr style=\"text-align: right;\">\n",
       "      <th></th>\n",
       "      <th>CSSPX</th>\n",
       "      <th>EM710</th>\n",
       "      <th>ITPS</th>\n",
       "      <th>PHAU</th>\n",
       "      <th>Portfolio</th>\n",
       "    </tr>\n",
       "    <tr>\n",
       "      <th>Date</th>\n",
       "      <th></th>\n",
       "      <th></th>\n",
       "      <th></th>\n",
       "      <th></th>\n",
       "      <th></th>\n",
       "    </tr>\n",
       "  </thead>\n",
       "  <tbody>\n",
       "    <tr>\n",
       "      <th>2025-04-09</th>\n",
       "      <td>1.646294</td>\n",
       "      <td>0.339677</td>\n",
       "      <td>0.412561</td>\n",
       "      <td>0.678545</td>\n",
       "      <td>3.077078</td>\n",
       "    </tr>\n",
       "    <tr>\n",
       "      <th>2025-04-10</th>\n",
       "      <td>1.712354</td>\n",
       "      <td>0.340864</td>\n",
       "      <td>0.411024</td>\n",
       "      <td>0.688459</td>\n",
       "      <td>3.152701</td>\n",
       "    </tr>\n",
       "    <tr>\n",
       "      <th>2025-04-11</th>\n",
       "      <td>1.691215</td>\n",
       "      <td>0.341274</td>\n",
       "      <td>0.397919</td>\n",
       "      <td>0.693572</td>\n",
       "      <td>3.123979</td>\n",
       "    </tr>\n",
       "  </tbody>\n",
       "</table>\n",
       "</div>"
      ],
      "text/plain": [
       "               CSSPX     EM710      ITPS      PHAU  Portfolio\n",
       "Date                                                         \n",
       "2025-04-09  1.646294  0.339677  0.412561  0.678545   3.077078\n",
       "2025-04-10  1.712354  0.340864  0.411024  0.688459   3.152701\n",
       "2025-04-11  1.691215  0.341274  0.397919  0.693572   3.123979"
      ]
     },
     "execution_count": 6,
     "metadata": {},
     "output_type": "execute_result"
    }
   ],
   "source": [
    "pf_val = backtest_portfolio(prices=pf_prices, weights=initial_weights, rebalance=False)\n",
    "pf_val.tail(3)"
   ]
  },
  {
   "cell_type": "code",
   "execution_count": 7,
   "id": "36948005",
   "metadata": {},
   "outputs": [
    {
     "name": "stdout",
     "output_type": "stream",
     "text": [
      "Portfolio Total Return (%): 212.4\n"
     ]
    }
   ],
   "source": [
    "tot_return = pf_val.Portfolio.iloc[-1]/pf_val.Portfolio.iloc[0] - 1 \n",
    "print('Portfolio Total Return (%):', round(tot_return*100,2))"
   ]
  },
  {
   "cell_type": "code",
   "execution_count": 8,
   "id": "fe87f509",
   "metadata": {},
   "outputs": [
    {
     "name": "stdout",
     "output_type": "stream",
     "text": [
      "Asset Total Returns (%):\n",
      "CSSPX    576.49\n",
      "EM710     36.51\n",
      "ITPS      59.17\n",
      "PHAU     177.43\n",
      "dtype: float64\n"
     ]
    }
   ],
   "source": [
    "tot_return_assets = pf_val[tickers].iloc[-1]/pf_val[tickers].iloc[0] - 1\n",
    "print('Asset Total Returns (%):')\n",
    "print((tot_return_assets*100).round(2))"
   ]
  },
  {
   "cell_type": "markdown",
   "id": "3530dc0e",
   "metadata": {},
   "source": [
    "You can notice that the Portfolio Total Return is the weighted average of asset Total Returns, weighted by assets `initial_weights`:"
   ]
  },
  {
   "cell_type": "code",
   "execution_count": 9,
   "id": "59df7d4d",
   "metadata": {},
   "outputs": [
    {
     "name": "stdout",
     "output_type": "stream",
     "text": [
      "Portfolio Total Return (%): 212.4\n"
     ]
    }
   ],
   "source": [
    "print('Portfolio Total Return (%):', round((tot_return_assets.dot(initial_weights))*100,2))"
   ]
  },
  {
   "cell_type": "markdown",
   "id": "7ed3e73f",
   "metadata": {},
   "source": [
    "Let's see how the performance changes, if I introduce rebalancing every 252 trading days in my strategy."
   ]
  },
  {
   "cell_type": "code",
   "execution_count": 10,
   "id": "86bd0893",
   "metadata": {},
   "outputs": [
    {
     "name": "stdout",
     "output_type": "stream",
     "text": [
      "Portfolio Total Return (%) with rebalance: 170.96\n"
     ]
    }
   ],
   "source": [
    "pf_val = backtest_portfolio(prices=pf_prices, weights=initial_weights, rebalance=True, rebalance_freq=252)\n",
    "tot_return = pf_val.Portfolio.iloc[-1]/pf_val.Portfolio.iloc[0] - 1 \n",
    "print('Portfolio Total Return (%) with rebalance:', round(tot_return*100,2))"
   ]
  },
  {
   "cell_type": "markdown",
   "id": "f2dcf7a2",
   "metadata": {},
   "source": [
    "#### 2. Annual Return\n",
    "\n",
    "$$\\text{Annual Return} = (1 + \\text{Total Return})^{\\frac{1}{\\text{Years}}} - 1$$\n",
    "\n",
    "$\\text{Years}$ is the nr of years of the investement from the start."
   ]
  },
  {
   "cell_type": "code",
   "execution_count": 11,
   "id": "7ecdd494",
   "metadata": {},
   "outputs": [
    {
     "name": "stdout",
     "output_type": "stream",
     "text": [
      "Portfolio Annual Return (%) with rebalance: 6.92\n"
     ]
    }
   ],
   "source": [
    "pf_years = (pf_val.index[-1] - pf_val.index[0])/pd.to_timedelta('365.25D') # length in years\n",
    "annual_return = ((1 + tot_return)**(1/pf_years))-1 # calculate annual return\n",
    "print('Portfolio Annual Return (%) with rebalance:', round(annual_return*100,2))"
   ]
  },
  {
   "cell_type": "code",
   "execution_count": 12,
   "id": "511da3f8",
   "metadata": {},
   "outputs": [
    {
     "name": "stdout",
     "output_type": "stream",
     "text": [
      "Portfolio Annual Return (%) buy-and-hold: 7.95\n"
     ]
    }
   ],
   "source": [
    "# calculating annual return for buy-and-hold strategy\n",
    "pf_val = backtest_portfolio(prices=pf_prices, weights=initial_weights, rebalance=False)\n",
    "tot_return = pf_val.Portfolio.iloc[-1]/pf_val.Portfolio.iloc[0] - 1\n",
    "pf_years = (pf_val.index[-1] - pf_val.index[0])/pd.to_timedelta('365.25D') # length in years\n",
    "annual_return = ((1 + tot_return)**(1/pf_years))-1 # calculate annual return\n",
    "print('Portfolio Annual Return (%) buy-and-hold:', round(annual_return*100,2))"
   ]
  },
  {
   "cell_type": "markdown",
   "id": "1e8cbad3",
   "metadata": {},
   "source": [
    "We can see that the two strategies have also different Annual Returns, even if portfolio assets and initial weights are the same."
   ]
  },
  {
   "cell_type": "markdown",
   "id": "6497c90c",
   "metadata": {},
   "source": [
    "#### 3. Annual Volatility\n",
    "\n",
    "Annual Volatity is the standard deviation of annual returns. It's calculated from the standard deviation of the daily returns multiplied by the square root of the 252 trading days in a year."
   ]
  },
  {
   "cell_type": "code",
   "execution_count": 13,
   "id": "af27144b",
   "metadata": {},
   "outputs": [
    {
     "name": "stdout",
     "output_type": "stream",
     "text": [
      "Portfolio Annual Volatility (%) buy-and-hold: 8.68\n"
     ]
    }
   ],
   "source": [
    "annual_volatility = np.std((pf_val.Portfolio).pct_change().dropna())*np.sqrt(252) \n",
    "print('Portfolio Annual Volatility (%) buy-and-hold:', round(annual_volatility*100,2))"
   ]
  },
  {
   "cell_type": "code",
   "execution_count": 14,
   "id": "626614a1",
   "metadata": {},
   "outputs": [
    {
     "name": "stdout",
     "output_type": "stream",
     "text": [
      "Portfolio Annual Volatility (%) with rebalance: 7.18\n"
     ]
    }
   ],
   "source": [
    "# calculating annual return for rebalancing strategy\n",
    "pf_val = backtest_portfolio(prices=pf_prices, weights=initial_weights, rebalance=True, rebalance_freq=252)\n",
    "annual_volatility = np.std((pf_val.Portfolio).pct_change().dropna())*np.sqrt(252) \n",
    "print('Portfolio Annual Volatility (%) with rebalance:', round(annual_volatility*100,2))"
   ]
  },
  {
   "cell_type": "markdown",
   "id": "5abf4aa7",
   "metadata": {},
   "source": [
    "*Buy-and-hold* strategy seems to have higher annual volatity and retruns than the *rebalance* strategy."
   ]
  },
  {
   "cell_type": "markdown",
   "id": "49fbd466",
   "metadata": {},
   "source": [
    "#### 4. Sharpe Ratio\n",
    "\n",
    "Which of the two strategy to choose? \n",
    "- *Buy-and-hold* strategy offered higher annual returns in the past at the price of higher risk (volatility).\n",
    "- *Rebalance* strategy offered lower annual returns in the past but with lower risk.\n",
    "\n",
    "Sharpe Ratio measures how much annual return we get per each 1 point of annual volatility:\n",
    "$$\\text{Sharpe Ratio} = \\frac{\\text{Annual Return}}{\\text{Annual Volatility}}$$\n",
    "\n"
   ]
  },
  {
   "cell_type": "code",
   "execution_count": 15,
   "id": "f4b78258",
   "metadata": {},
   "outputs": [],
   "source": [
    "# Backtesting both strategies\n",
    "pf_val_bh = backtest_portfolio(prices=pf_prices, weights=initial_weights, rebalance=False) # buy and hold\n",
    "pf_val_reb = backtest_portfolio(prices=pf_prices, weights=initial_weights, \n",
    "                                rebalance=True, rebalance_freq=252) # rebalance\n",
    "\n",
    "# calculating total returns of both strategies\n",
    "tot_return_bh = pf_val_bh.Portfolio.iloc[-1]/pf_val_bh.Portfolio.iloc[0] - 1 # buy-and-hold\n",
    "tot_return_reb = pf_val_reb.Portfolio.iloc[-1]/pf_val_reb.Portfolio.iloc[0] - 1 # rebalance\n",
    "\n",
    "# calculating annual returns of both strategies\n",
    "pf_bh_years = (pf_val_bh.index[-1] - pf_val_bh.index[0])/pd.to_timedelta('365.25D') # length in years buy-and-hold\n",
    "pf_reb_years = (pf_val_reb.index[-1] - pf_val_reb.index[0])/pd.to_timedelta('365.25D') # length in years rebalance\n",
    "annual_return_bh = ((1 + tot_return_bh)**(1/pf_bh_years))-1 # calculate annual return buy-and-hold\n",
    "annual_return_reb = ((1 + tot_return_reb)**(1/pf_reb_years))-1 # calculate annual return rebalance\n",
    "\n",
    "# calculating annual volatilities of both strategies\n",
    "annual_volatility_bh = np.std((pf_val_bh.Portfolio).pct_change().dropna())*np.sqrt(252) # buy-and-hold\n",
    "annual_volatility_reb = np.std((pf_val_reb.Portfolio).pct_change().dropna())*np.sqrt(252) # rebalance"
   ]
  },
  {
   "cell_type": "code",
   "execution_count": 16,
   "id": "f4c7ea25",
   "metadata": {},
   "outputs": [
    {
     "name": "stdout",
     "output_type": "stream",
     "text": [
      "Buy-and-hold Sharpe Ratio: 0.92\n",
      "Lenght of the buy-and-hold backtest: 14.9 years\n",
      "Rebalance Sharpe Ratio: 0.96\n",
      "Lenght of the rebalance backtest: 14.9 years\n"
     ]
    }
   ],
   "source": [
    "# calculating Sharpe Ratios of both strategies:\n",
    "print('Buy-and-hold Sharpe Ratio:', round(annual_return_bh/annual_volatility_bh, 2))\n",
    "print('Lenght of the buy-and-hold backtest:', round(pf_bh_years,1), 'years')\n",
    "print('Rebalance Sharpe Ratio:', round(annual_return_reb/annual_volatility_reb, 2))\n",
    "print('Lenght of the rebalance backtest:', round(pf_reb_years,1), 'years')"
   ]
  },
  {
   "cell_type": "markdown",
   "id": "4517b113",
   "metadata": {},
   "source": [
    "The higher than 1.0 the Sharpe Ratio the better the stratey is, meaning that we are more highly rewarded per each point of risk (volatility) taken. If Sharpe Ratio < 1, we are taking more risks than what we get back as returns.\n",
    "\n",
    "Personally, I prefer strategies with the highest Sharpe Ratio (possibly > 1.0)."
   ]
  },
  {
   "cell_type": "markdown",
   "id": "674dce2d",
   "metadata": {},
   "source": [
    "#### 5. Putting all together and write a function calculating performance indicators\n",
    "\n",
    "I'm introducing also the optional parameter of `risk_free_rate` to calculate the Sharpe Ratio. In fact, Sharpe Ratio numerator is the excess return of the investment over a risk free investment. \n",
    "\n",
    "In the example in paragraph 4. I didn't take into consideration the `risk_free_rate`, because there are almost no risk free investements and therefore not making calculation more complicated."
   ]
  },
  {
   "cell_type": "code",
   "execution_count": 17,
   "id": "93512961",
   "metadata": {},
   "outputs": [],
   "source": [
    "def portfolio_performance(pf: pd.Series, risk_free_rate: float = 0.0) -> pd.Series:\n",
    "    \"\"\"\n",
    "    Calculates portfolio performance indicators from a time series of daily portfolio values.\n",
    "\n",
    "    Parameters:\n",
    "    - pf: pd.Series with portfolio values indexed by date\n",
    "    - risk_free_rate: Annual risk-free rate (default = 0.0)\n",
    "\n",
    "    Returns:\n",
    "    - pd.Series with Total Return, Annual Return, Annual Volatility, and Sharpe Ratio\n",
    "    \"\"\"\n",
    "    indicators = ['Total_Return', 'Annual_Return', 'Annual_Volatility', 'Sharpe']\n",
    "    perf = pd.Series(index=indicators, dtype='float64')\n",
    "\n",
    "    # Length of backtest in years\n",
    "    pf_years = (pf.index[-1] - pf.index[0]) / pd.to_timedelta('365.25D')\n",
    "\n",
    "    # Daily returns\n",
    "    daily_returns = pf.pct_change().dropna()\n",
    "\n",
    "    # Metrics\n",
    "    total_return = pf.iloc[-1] / pf.iloc[0] - 1\n",
    "    annual_return = (1 + total_return) ** (1 / pf_years) - 1\n",
    "    annual_volatility = daily_returns.std() * np.sqrt(252)\n",
    "\n",
    "    # Sharpe Ratio (excess return over volatility)\n",
    "    excess_return = annual_return - risk_free_rate\n",
    "    sharpe_ratio = excess_return / annual_volatility if annual_volatility != 0 else np.nan\n",
    "\n",
    "    # Fill output\n",
    "    perf['Total_Return'] = total_return\n",
    "    perf['Annual_Return'] = annual_return\n",
    "    perf['Annual_Volatility'] = annual_volatility\n",
    "    perf['Sharpe'] = sharpe_ratio\n",
    "\n",
    "    return perf"
   ]
  },
  {
   "cell_type": "code",
   "execution_count": 18,
   "id": "27a7f13d",
   "metadata": {},
   "outputs": [
    {
     "name": "stdout",
     "output_type": "stream",
     "text": [
      "Total_Return         1.709636\n",
      "Annual_Return        0.069205\n",
      "Annual_Volatility    0.071779\n",
      "Sharpe               0.964137\n",
      "dtype: float64\n"
     ]
    }
   ],
   "source": [
    "# from previous backtests for rebalance\n",
    "metrics = portfolio_performance(pf_val_reb.Portfolio)\n",
    "print(metrics)\n"
   ]
  },
  {
   "cell_type": "code",
   "execution_count": 19,
   "id": "e272cc1e",
   "metadata": {},
   "outputs": [
    {
     "name": "stdout",
     "output_type": "stream",
     "text": [
      "Total_Return         2.123979\n",
      "Annual_Return        0.079467\n",
      "Annual_Volatility    0.086843\n",
      "Sharpe               0.915065\n",
      "dtype: float64\n"
     ]
    }
   ],
   "source": [
    "# from previous backtests for buy-and-hold\n",
    "metrics = portfolio_performance(pf_val_bh.Portfolio)\n",
    "print(metrics)"
   ]
  },
  {
   "cell_type": "markdown",
   "id": "2098f470",
   "metadata": {},
   "source": [
    "Each single indicator can be individually accessed from the `metrics` pd.Series:"
   ]
  },
  {
   "cell_type": "code",
   "execution_count": 20,
   "id": "bd3d1eb1",
   "metadata": {},
   "outputs": [
    {
     "data": {
      "text/plain": [
       "(2.123979494199022,\n",
       " 0.07946698968321697,\n",
       " 0.08684297711092118,\n",
       " 0.915065239895183)"
      ]
     },
     "execution_count": 20,
     "metadata": {},
     "output_type": "execute_result"
    }
   ],
   "source": [
    "metrics.Total_Return, metrics.Annual_Return, metrics.Annual_Volatility, metrics.Sharpe"
   ]
  },
  {
   "cell_type": "markdown",
   "id": "bb69f9ec",
   "metadata": {},
   "source": [
    "### Summary\n",
    "\n",
    "In this chapter we have seen four common portfolio performance indicators and defined the function `portfolio_performance()` calculating these indicators by passing it a `pd.Series` containing backtest portfolio values.\n",
    "\n",
    "Now I want to cover another aspect related to risk: *maximum drawdown* when testing a portfolio strategy."
   ]
  }
 ],
 "metadata": {
  "kernelspec": {
   "display_name": "base",
   "language": "python",
   "name": "python3"
  },
  "language_info": {
   "codemirror_mode": {
    "name": "ipython",
    "version": 3
   },
   "file_extension": ".py",
   "mimetype": "text/x-python",
   "name": "python",
   "nbconvert_exporter": "python",
   "pygments_lexer": "ipython3",
   "version": "3.11.7"
  }
 },
 "nbformat": 4,
 "nbformat_minor": 5
}
