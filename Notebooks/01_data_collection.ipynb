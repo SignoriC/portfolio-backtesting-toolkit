{
 "cells": [
  {
   "cell_type": "markdown",
   "id": "c22dc651",
   "metadata": {},
   "source": [
    "## 01 Asset Data Collection\n",
    "\n",
    "Before testing any portfolio strategy we need data first of all. I want to focus on two ways to collect data:\n",
    "1. directly from the web by using the `yfinance` library, that takes data from Yahoo Finance;\n",
    "2. from `.csv` files downloaded and strored from *Investing.com* - for example - or any other source.\n",
    "\n",
    "Having this second approach as backup data source might be helpful when the first doesn't work for any reason realated to either Yahoo Finance or `yfinance` or both.\n",
    "\n",
    "In this notebook I want to define one or two functions to collect asset daily price data and put them in a file called `Utils.py` from which I can call directly these functions and see the results in few lines of code."
   ]
  },
  {
   "cell_type": "code",
   "execution_count": 1,
   "id": "729523be",
   "metadata": {},
   "outputs": [],
   "source": [
    "import pandas as pd\n",
    "import matplotlib.pyplot as plt\n",
    "import yfinance as yf"
   ]
  },
  {
   "cell_type": "code",
   "execution_count": 2,
   "id": "2ce6225d",
   "metadata": {},
   "outputs": [],
   "source": [
    "plt.style.use('ggplot')"
   ]
  },
  {
   "cell_type": "markdown",
   "id": "523054b2",
   "metadata": {},
   "source": [
    "### 1. Taking Data by using `yfinance`"
   ]
  },
  {
   "cell_type": "code",
   "execution_count": 3,
   "id": "53ac5417",
   "metadata": {},
   "outputs": [
    {
     "data": {
      "text/html": [
       "<div>\n",
       "<style scoped>\n",
       "    .dataframe tbody tr th:only-of-type {\n",
       "        vertical-align: middle;\n",
       "    }\n",
       "\n",
       "    .dataframe tbody tr th {\n",
       "        vertical-align: top;\n",
       "    }\n",
       "\n",
       "    .dataframe thead tr th {\n",
       "        text-align: left;\n",
       "    }\n",
       "\n",
       "    .dataframe thead tr:last-of-type th {\n",
       "        text-align: right;\n",
       "    }\n",
       "</style>\n",
       "<table border=\"1\" class=\"dataframe\">\n",
       "  <thead>\n",
       "    <tr>\n",
       "      <th>Price</th>\n",
       "      <th>Adj Close</th>\n",
       "      <th>Close</th>\n",
       "      <th>High</th>\n",
       "      <th>Low</th>\n",
       "      <th>Open</th>\n",
       "      <th>Volume</th>\n",
       "    </tr>\n",
       "    <tr>\n",
       "      <th>Ticker</th>\n",
       "      <th>CSSPX.MI</th>\n",
       "      <th>CSSPX.MI</th>\n",
       "      <th>CSSPX.MI</th>\n",
       "      <th>CSSPX.MI</th>\n",
       "      <th>CSSPX.MI</th>\n",
       "      <th>CSSPX.MI</th>\n",
       "    </tr>\n",
       "    <tr>\n",
       "      <th>Date</th>\n",
       "      <th></th>\n",
       "      <th></th>\n",
       "      <th></th>\n",
       "      <th></th>\n",
       "      <th></th>\n",
       "      <th></th>\n",
       "    </tr>\n",
       "  </thead>\n",
       "  <tbody>\n",
       "    <tr>\n",
       "      <th>2010-05-19</th>\n",
       "      <td>72.849998</td>\n",
       "      <td>72.849998</td>\n",
       "      <td>72.849998</td>\n",
       "      <td>72.849998</td>\n",
       "      <td>72.849998</td>\n",
       "      <td>0</td>\n",
       "    </tr>\n",
       "    <tr>\n",
       "      <th>2010-05-20</th>\n",
       "      <td>72.849998</td>\n",
       "      <td>72.849998</td>\n",
       "      <td>72.849998</td>\n",
       "      <td>72.849998</td>\n",
       "      <td>72.849998</td>\n",
       "      <td>0</td>\n",
       "    </tr>\n",
       "    <tr>\n",
       "      <th>2010-05-21</th>\n",
       "      <td>72.849998</td>\n",
       "      <td>72.849998</td>\n",
       "      <td>72.849998</td>\n",
       "      <td>72.849998</td>\n",
       "      <td>72.849998</td>\n",
       "      <td>0</td>\n",
       "    </tr>\n",
       "    <tr>\n",
       "      <th>2010-05-24</th>\n",
       "      <td>72.849998</td>\n",
       "      <td>72.849998</td>\n",
       "      <td>72.849998</td>\n",
       "      <td>72.849998</td>\n",
       "      <td>72.849998</td>\n",
       "      <td>0</td>\n",
       "    </tr>\n",
       "    <tr>\n",
       "      <th>2010-05-25</th>\n",
       "      <td>72.849998</td>\n",
       "      <td>72.849998</td>\n",
       "      <td>72.849998</td>\n",
       "      <td>72.849998</td>\n",
       "      <td>0.000000</td>\n",
       "      <td>0</td>\n",
       "    </tr>\n",
       "  </tbody>\n",
       "</table>\n",
       "</div>"
      ],
      "text/plain": [
       "Price       Adj Close      Close       High        Low       Open   Volume\n",
       "Ticker       CSSPX.MI   CSSPX.MI   CSSPX.MI   CSSPX.MI   CSSPX.MI CSSPX.MI\n",
       "Date                                                                      \n",
       "2010-05-19  72.849998  72.849998  72.849998  72.849998  72.849998        0\n",
       "2010-05-20  72.849998  72.849998  72.849998  72.849998  72.849998        0\n",
       "2010-05-21  72.849998  72.849998  72.849998  72.849998  72.849998        0\n",
       "2010-05-24  72.849998  72.849998  72.849998  72.849998  72.849998        0\n",
       "2010-05-25  72.849998  72.849998  72.849998  72.849998   0.000000        0"
      ]
     },
     "execution_count": 3,
     "metadata": {},
     "output_type": "execute_result"
    }
   ],
   "source": [
    "yf.download(tickers='CSSPX.MI', progress=False, auto_adjust=False).head()"
   ]
  },
  {
   "cell_type": "code",
   "execution_count": 4,
   "id": "3b3ce351",
   "metadata": {},
   "outputs": [
    {
     "name": "stdout",
     "output_type": "stream",
     "text": [
      "YF.download() has changed argument auto_adjust default to True\n"
     ]
    },
    {
     "data": {
      "text/html": [
       "<div>\n",
       "<style scoped>\n",
       "    .dataframe tbody tr th:only-of-type {\n",
       "        vertical-align: middle;\n",
       "    }\n",
       "\n",
       "    .dataframe tbody tr th {\n",
       "        vertical-align: top;\n",
       "    }\n",
       "\n",
       "    .dataframe thead tr th {\n",
       "        text-align: left;\n",
       "    }\n",
       "\n",
       "    .dataframe thead tr:last-of-type th {\n",
       "        text-align: right;\n",
       "    }\n",
       "</style>\n",
       "<table border=\"1\" class=\"dataframe\">\n",
       "  <thead>\n",
       "    <tr>\n",
       "      <th>Price</th>\n",
       "      <th>Close</th>\n",
       "      <th>High</th>\n",
       "      <th>Low</th>\n",
       "      <th>Open</th>\n",
       "      <th>Volume</th>\n",
       "    </tr>\n",
       "    <tr>\n",
       "      <th>Ticker</th>\n",
       "      <th>CSSPX.MI</th>\n",
       "      <th>CSSPX.MI</th>\n",
       "      <th>CSSPX.MI</th>\n",
       "      <th>CSSPX.MI</th>\n",
       "      <th>CSSPX.MI</th>\n",
       "    </tr>\n",
       "    <tr>\n",
       "      <th>Date</th>\n",
       "      <th></th>\n",
       "      <th></th>\n",
       "      <th></th>\n",
       "      <th></th>\n",
       "      <th></th>\n",
       "    </tr>\n",
       "  </thead>\n",
       "  <tbody>\n",
       "    <tr>\n",
       "      <th>2010-05-19</th>\n",
       "      <td>72.849998</td>\n",
       "      <td>72.849998</td>\n",
       "      <td>72.849998</td>\n",
       "      <td>72.849998</td>\n",
       "      <td>0</td>\n",
       "    </tr>\n",
       "    <tr>\n",
       "      <th>2010-05-20</th>\n",
       "      <td>72.849998</td>\n",
       "      <td>72.849998</td>\n",
       "      <td>72.849998</td>\n",
       "      <td>72.849998</td>\n",
       "      <td>0</td>\n",
       "    </tr>\n",
       "    <tr>\n",
       "      <th>2010-05-21</th>\n",
       "      <td>72.849998</td>\n",
       "      <td>72.849998</td>\n",
       "      <td>72.849998</td>\n",
       "      <td>72.849998</td>\n",
       "      <td>0</td>\n",
       "    </tr>\n",
       "    <tr>\n",
       "      <th>2010-05-24</th>\n",
       "      <td>72.849998</td>\n",
       "      <td>72.849998</td>\n",
       "      <td>72.849998</td>\n",
       "      <td>72.849998</td>\n",
       "      <td>0</td>\n",
       "    </tr>\n",
       "    <tr>\n",
       "      <th>2010-05-25</th>\n",
       "      <td>72.849998</td>\n",
       "      <td>72.849998</td>\n",
       "      <td>72.849998</td>\n",
       "      <td>0.000000</td>\n",
       "      <td>0</td>\n",
       "    </tr>\n",
       "  </tbody>\n",
       "</table>\n",
       "</div>"
      ],
      "text/plain": [
       "Price           Close       High        Low       Open   Volume\n",
       "Ticker       CSSPX.MI   CSSPX.MI   CSSPX.MI   CSSPX.MI CSSPX.MI\n",
       "Date                                                           \n",
       "2010-05-19  72.849998  72.849998  72.849998  72.849998        0\n",
       "2010-05-20  72.849998  72.849998  72.849998  72.849998        0\n",
       "2010-05-21  72.849998  72.849998  72.849998  72.849998        0\n",
       "2010-05-24  72.849998  72.849998  72.849998  72.849998        0\n",
       "2010-05-25  72.849998  72.849998  72.849998   0.000000        0"
      ]
     },
     "execution_count": 4,
     "metadata": {},
     "output_type": "execute_result"
    }
   ],
   "source": [
    "yf.download(tickers='CSSPX.MI', progress=False).head()"
   ]
  },
  {
   "cell_type": "markdown",
   "id": "88050854",
   "metadata": {},
   "source": [
    "Notice that the argument `auto_adjust=True` by default. Therefore if we want the Adjusted Closing Price of our ticker, we need to set the argument `auto_adjust` to `False`.\n",
    "\n",
    "When testing strategies, we are usually interested in the `Close` or `Adj Close` price of the ticker. So we can use the `.loc` method to subset the MultIndex Columns in the DataFrame of our ticker series and store the ticker's historical prices into a `pd.Series`."
   ]
  },
  {
   "cell_type": "code",
   "execution_count": 5,
   "id": "c5379f26",
   "metadata": {},
   "outputs": [
    {
     "data": {
      "text/plain": [
       "Date\n",
       "2010-05-19    72.849998\n",
       "2010-05-20    72.849998\n",
       "2010-05-21    72.849998\n",
       "2010-05-24    72.849998\n",
       "2010-05-25    72.849998\n",
       "Name: (Adj Close, CSSPX.MI), dtype: float64"
      ]
     },
     "execution_count": 5,
     "metadata": {},
     "output_type": "execute_result"
    }
   ],
   "source": [
    "yf.download(tickers='CSSPX.MI', progress=False, auto_adjust=False).loc[:,('Adj Close','CSSPX.MI')].head()"
   ]
  },
  {
   "cell_type": "markdown",
   "id": "9725811f",
   "metadata": {},
   "source": [
    "Now I want to write a function that takes the historical `Prices` of a ticker from Yahoo Finance and stores them into a `pd.Series`."
   ]
  },
  {
   "cell_type": "code",
   "execution_count": 6,
   "id": "52cc887e",
   "metadata": {},
   "outputs": [],
   "source": [
    "def prices(ticker, price='Adj Close'):\n",
    "    \"\"\"Retrieves daily price data for a given ticker symbol from the Milan Stock Exchange (Borsa Italiana).\n",
    "\n",
    "    Args:\n",
    "        ticker (str): The ticker symbol of the stock. \n",
    "        price (str, optional): The type of price data to retrieve. Can be either 'Close' or 'Adj Close' (default).\n",
    "\n",
    "    Returns:\n",
    "        pandas.Series: daily price data for the specified ticker, indexed by date.\n",
    "    \"\"\"\n",
    "    if price != 'Adj Close':\n",
    "        # append '.MI' to the ticker to fetch data from the Milan Stock Exchange.\n",
    "        data = yf.download(tickers=ticker+'.MI', \n",
    "                             progress=False).loc[:,('Close',ticker+'.MI')]\n",
    "    else:\n",
    "        # append '.MI' to the ticker to fetch data from the Milan Stock Exchange.\n",
    "        data = yf.download(tickers=ticker+'.MI', \n",
    "                             progress=False, auto_adjust=False).loc[:,('Adj Close',ticker+'.MI')]\n",
    "    \n",
    "    # giving ticker's name to data\n",
    "    data.name = ticker\n",
    "    \n",
    "    return data "
   ]
  },
  {
   "cell_type": "code",
   "execution_count": 7,
   "id": "dd354641",
   "metadata": {},
   "outputs": [
    {
     "data": {
      "text/plain": [
       "<Axes: xlabel='Date'>"
      ]
     },
     "execution_count": 7,
     "metadata": {},
     "output_type": "execute_result"
    },
    {
     "data": {
      "image/png": "[encoded data removed]",
      "text/plain": [
       "<Figure size 640x480 with 1 Axes>"
      ]
     },
     "metadata": {},
     "output_type": "display_data"
    }
   ],
   "source": [
    "prices(ticker='CSSPX', price='Close').plot()"
   ]
  },
  {
   "cell_type": "markdown",
   "id": "78dceece",
   "metadata": {},
   "source": [
    "### 2. Taking Data by using `.csv` files from *Investing.com*"
   ]
  },
  {
   "cell_type": "markdown",
   "id": "dfaedd0a",
   "metadata": {},
   "source": [
    "I read the data from a ticker `.csv` file stored in the `historical_series` folder."
   ]
  },
  {
   "cell_type": "code",
   "execution_count": 8,
   "id": "c23d5be9",
   "metadata": {},
   "outputs": [
    {
     "data": {
      "text/html": [
       "<div>\n",
       "<style scoped>\n",
       "    .dataframe tbody tr th:only-of-type {\n",
       "        vertical-align: middle;\n",
       "    }\n",
       "\n",
       "    .dataframe tbody tr th {\n",
       "        vertical-align: top;\n",
       "    }\n",
       "\n",
       "    .dataframe thead th {\n",
       "        text-align: right;\n",
       "    }\n",
       "</style>\n",
       "<table border=\"1\" class=\"dataframe\">\n",
       "  <thead>\n",
       "    <tr style=\"text-align: right;\">\n",
       "      <th></th>\n",
       "      <th>Date</th>\n",
       "      <th>Price</th>\n",
       "      <th>Open</th>\n",
       "      <th>High</th>\n",
       "      <th>Low</th>\n",
       "      <th>Vol.</th>\n",
       "      <th>Change %</th>\n",
       "    </tr>\n",
       "  </thead>\n",
       "  <tbody>\n",
       "    <tr>\n",
       "      <th>0</th>\n",
       "      <td>04/04/2025</td>\n",
       "      <td>256.66</td>\n",
       "      <td>261.18</td>\n",
       "      <td>264.61</td>\n",
       "      <td>256.66</td>\n",
       "      <td>14.68K</td>\n",
       "      <td>-2.13%</td>\n",
       "    </tr>\n",
       "    <tr>\n",
       "      <th>1</th>\n",
       "      <td>04/03/2025</td>\n",
       "      <td>262.24</td>\n",
       "      <td>265.31</td>\n",
       "      <td>266.13</td>\n",
       "      <td>256.37</td>\n",
       "      <td>32.30K</td>\n",
       "      <td>-2.32%</td>\n",
       "    </tr>\n",
       "    <tr>\n",
       "      <th>2</th>\n",
       "      <td>04/02/2025</td>\n",
       "      <td>268.46</td>\n",
       "      <td>269.02</td>\n",
       "      <td>270.56</td>\n",
       "      <td>267.90</td>\n",
       "      <td>19.79K</td>\n",
       "      <td>-0.56%</td>\n",
       "    </tr>\n",
       "    <tr>\n",
       "      <th>3</th>\n",
       "      <td>04/01/2025</td>\n",
       "      <td>269.96</td>\n",
       "      <td>270.38</td>\n",
       "      <td>271.33</td>\n",
       "      <td>269.50</td>\n",
       "      <td>19.03K</td>\n",
       "      <td>0.27%</td>\n",
       "    </tr>\n",
       "    <tr>\n",
       "      <th>4</th>\n",
       "      <td>03/31/2025</td>\n",
       "      <td>269.24</td>\n",
       "      <td>268.65</td>\n",
       "      <td>269.97</td>\n",
       "      <td>267.64</td>\n",
       "      <td>18.30K</td>\n",
       "      <td>1.37%</td>\n",
       "    </tr>\n",
       "  </tbody>\n",
       "</table>\n",
       "</div>"
      ],
      "text/plain": [
       "         Date   Price    Open    High     Low    Vol. Change %\n",
       "0  04/04/2025  256.66  261.18  264.61  256.66  14.68K   -2.13%\n",
       "1  04/03/2025  262.24  265.31  266.13  256.37  32.30K   -2.32%\n",
       "2  04/02/2025  268.46  269.02  270.56  267.90  19.79K   -0.56%\n",
       "3  04/01/2025  269.96  270.38  271.33  269.50  19.03K    0.27%\n",
       "4  03/31/2025  269.24  268.65  269.97  267.64  18.30K    1.37%"
      ]
     },
     "execution_count": 8,
     "metadata": {},
     "output_type": "execute_result"
    }
   ],
   "source": [
    "pd.read_csv('historical_series/PHAU.csv').head()"
   ]
  },
  {
   "cell_type": "code",
   "execution_count": 9,
   "id": "b9b31903",
   "metadata": {},
   "outputs": [
    {
     "name": "stdout",
     "output_type": "stream",
     "text": [
      "<class 'pandas.core.frame.DataFrame'>\n",
      "RangeIndex: 4518 entries, 0 to 4517\n",
      "Data columns (total 7 columns):\n",
      " #   Column    Non-Null Count  Dtype  \n",
      "---  ------    --------------  -----  \n",
      " 0   Date      4518 non-null   object \n",
      " 1   Price     4518 non-null   float64\n",
      " 2   Open      4518 non-null   float64\n",
      " 3   High      4518 non-null   float64\n",
      " 4   Low       4518 non-null   float64\n",
      " 5   Vol.      4482 non-null   object \n",
      " 6   Change %  4518 non-null   object \n",
      "dtypes: float64(4), object(3)\n",
      "memory usage: 247.2+ KB\n"
     ]
    }
   ],
   "source": [
    "prices = pd.read_csv('historical_series/PHAU.csv')\n",
    "prices.info()"
   ]
  },
  {
   "cell_type": "markdown",
   "id": "a6b254c2",
   "metadata": {},
   "source": [
    "Also this case, when testing strategies, we are usually interested in the `Close` or `Adj Close` price of the ticker. So we can use the `.loc` method to subset the `Price` in the DataFrame of our ticker series and store the ticker's historical prices into a `pd.Series`.\n",
    "Because the column `Date` is an object `Dtype` we need to convert it in a `dtype = datetime64[ns]` object."
   ]
  },
  {
   "cell_type": "code",
   "execution_count": 10,
   "id": "2bf735a2",
   "metadata": {},
   "outputs": [
    {
     "data": {
      "text/plain": [
       "Date\n",
       "2007-06-20    49.00\n",
       "2007-06-21    49.00\n",
       "2007-06-22    49.00\n",
       "2007-06-25    49.00\n",
       "2007-06-26    48.23\n",
       "Name: Price, dtype: float64"
      ]
     },
     "execution_count": 10,
     "metadata": {},
     "output_type": "execute_result"
    }
   ],
   "source": [
    "# Convert 'Date' column to datetime objects if it's not already\n",
    "prices['Date'] = pd.to_datetime(prices['Date'])\n",
    "# sorting prices by 'Date' and resetting index\n",
    "prices = prices.sort_values(by='Date').set_index('Date')\n",
    "prices = prices.loc[:,'Price']\n",
    "\n",
    "prices.head()"
   ]
  },
  {
   "cell_type": "markdown",
   "id": "99a0fddd",
   "metadata": {},
   "source": [
    "Now I want to add the additional argument `source` to the function `prices`. If `source = 'csv'`, the function takes the historical `Prices` of a ticker from the files stored in the `historical_series` folder. Otherwise from Yahoo Finance. In both cases, the function `prices` returns the historical `Prices` as a `pd.Series`."
   ]
  },
  {
   "cell_type": "code",
   "execution_count": 11,
   "id": "c40cd871",
   "metadata": {},
   "outputs": [],
   "source": [
    "def prices(ticker, source='yf', price='Adj Close'):\n",
    "    \"\"\"Retrieves daily price data for a given ticker symbol from the Milan Stock Exchange (Borsa Italiana).\n",
    "\n",
    "    Args:\n",
    "        ticker (str): The ticker symbol of the stock.\n",
    "        source (str, optional): The source of price data to retrive. Can be either 'csv' or 'yf'.\n",
    "            - 'csv': Reads data from a CSV file named '{ticker}.csv' in the 'historical_series/' subdirectory.\n",
    "            - 'yf' (default): Fetches data from Yahoo Finance. '.MI' is automatically appended.\n",
    "        price (str, optional): The type of price data to retrieve. Can be either 'Close' or 'Adj Close'.\n",
    "            - 'Close': Takes the Closing price of the ticker.\n",
    "            - 'Adj Close' (default): Takes the Adjusted Closing price of the ticker.\n",
    "\n",
    "    Returns:\n",
    "        pandas.Series: daily price data for the specified ticker, indexed by date.\n",
    "    \"\"\"\n",
    "    if source == 'csv':\n",
    "        data = pd.read_csv('historical_series/' + ticker + '.csv')\n",
    "        # Convert 'Date' column to datetime objects if it's not already\n",
    "        data['Date'] = pd.to_datetime(data['Date'])\n",
    "        # sorting data by 'Date' and resetting index\n",
    "        data = data.sort_values(by='Date').set_index('Date')\n",
    "        data = data.loc[:,'Price']\n",
    "            \n",
    "    else:\n",
    "        if price != 'Adj Close':\n",
    "            # append '.MI' to the ticker to fetch data from the Milan Stock Exchange.\n",
    "            data = yf.download(tickers=ticker+'.MI', \n",
    "                                progress=False).loc[:,('Close',ticker+'.MI')]\n",
    "        else:\n",
    "            # append '.MI' to the ticker to fetch data from the Milan Stock Exchange.\n",
    "            data = yf.download(tickers=ticker+'.MI', \n",
    "                                progress=False, auto_adjust=False).loc[:,('Adj Close',ticker+'.MI')]\n",
    "    \n",
    "    # giving ticker's name to data\n",
    "    data.name = ticker\n",
    "    \n",
    "    return data"
   ]
  },
  {
   "cell_type": "code",
   "execution_count": 12,
   "id": "336f6743",
   "metadata": {},
   "outputs": [
    {
     "data": {
      "text/plain": [
       "<Axes: xlabel='Date'>"
      ]
     },
     "execution_count": 12,
     "metadata": {},
     "output_type": "execute_result"
    },
    {
     "data": {
      "image/png": "[encoded data removed]",
      "text/plain": [
       "<Figure size 640x480 with 1 Axes>"
      ]
     },
     "metadata": {},
     "output_type": "display_data"
    }
   ],
   "source": [
    "prices(ticker='CSSPX').plot()"
   ]
  },
  {
   "cell_type": "code",
   "execution_count": 13,
   "id": "26906e9f",
   "metadata": {},
   "outputs": [
    {
     "data": {
      "text/plain": [
       "<Axes: xlabel='Date'>"
      ]
     },
     "execution_count": 13,
     "metadata": {},
     "output_type": "execute_result"
    },
    {
     "data": {
      "image/png": "[encoded data removed]",
      "text/plain": [
       "<Figure size 640x480 with 1 Axes>"
      ]
     },
     "metadata": {},
     "output_type": "display_data"
    }
   ],
   "source": [
    "prices(ticker='CSSPX', source='csv').plot()"
   ]
  },
  {
   "cell_type": "markdown",
   "id": "90df7e35",
   "metadata": {},
   "source": [
    "### Summary\n",
    "\n",
    "This chapter covers two methods for getting historical asset prices: directly from *Yahoo Finance* or from `.csv` files I downloaded from *Investing.com* and saved in a folder called `historical_series`. I created a `prices()` function that retrieves daily price data for a given asset symbol from either source (`'csv'` or `'yf'`)."
   ]
  }
 ],
 "metadata": {
  "kernelspec": {
   "display_name": "base",
   "language": "python",
   "name": "python3"
  },
  "language_info": {
   "codemirror_mode": {
    "name": "ipython",
    "version": 3
   },
   "file_extension": ".py",
   "mimetype": "text/x-python",
   "name": "python",
   "nbconvert_exporter": "python",
   "pygments_lexer": "ipython3",
   "version": "3.11.7"
  }
 },
 "nbformat": 4,
 "nbformat_minor": 5
}
