{
 "cells": [
  {
   "cell_type": "markdown",
   "id": "a6f6b013",
   "metadata": {},
   "source": [
    "## Structuring Portfolio Data\n",
    "\n",
    "In this notebook I want to define one function structuring portfolio data in one DataFrame. Then I put this function in a file called `Utils.py` from which I can call it directly and see the results.\n",
    "\n",
    "The starting point is a set of assets - that I call `tickers` - to be included in a portfolio.\n",
    "Then I want to collect the historical prices of these assets using the function `prices` defined in *Chap_1* and saved in the `Utils.py` file.\n",
    "\n",
    "The last step is putting all ticker historical prices in one DataFrame."
   ]
  },
  {
   "cell_type": "code",
   "execution_count": 1,
   "id": "80eb3bab",
   "metadata": {},
   "outputs": [],
   "source": [
    "# importing the necessary libraries\n",
    "import pandas as pd\n",
    "import numpy as np\n",
    "import matplotlib.pyplot as plt\n",
    "import yfinance as yf"
   ]
  },
  {
   "cell_type": "code",
   "execution_count": 2,
   "id": "09e27248",
   "metadata": {},
   "outputs": [],
   "source": [
    "plt.style.use('ggplot')"
   ]
  },
  {
   "cell_type": "markdown",
   "id": "94d7e13b",
   "metadata": {},
   "source": [
    "#### 1. Asset tickers and their historical prices\n",
    "\n",
    "Say that I take 4 ETFs listed at Milano stock exchange. I create a list of their `tickers`."
   ]
  },
  {
   "cell_type": "code",
   "execution_count": 3,
   "id": "1e3da6c6",
   "metadata": {},
   "outputs": [],
   "source": [
    "tickers = ['CSSPX','PHAU','EM710','ITPS']"
   ]
  },
  {
   "cell_type": "markdown",
   "id": "0f70eb80",
   "metadata": {},
   "source": [
    "To collect these asset historical prices, I use the function `prices` defined in *Chap_1* and located in the `Utils.py` file. Then I create a list of all the ticker historical series."
   ]
  },
  {
   "cell_type": "code",
   "execution_count": 4,
   "id": "01a769bd",
   "metadata": {},
   "outputs": [],
   "source": [
    "from Utils import prices"
   ]
  },
  {
   "cell_type": "code",
   "execution_count": 5,
   "id": "687e026e",
   "metadata": {},
   "outputs": [],
   "source": [
    "data_yf = [] # empty list of the historical price series from 'yf'\n",
    "for tick in tickers:\n",
    "    data_yf.append(prices(ticker=tick)) # using 'yf' as data source"
   ]
  },
  {
   "cell_type": "markdown",
   "id": "cf112d82",
   "metadata": {},
   "source": [
    "I want to check if the different tickers have a common starting date. In fact, different assets might have been launched at different dates."
   ]
  },
  {
   "cell_type": "code",
   "execution_count": 6,
   "id": "f9b9472f",
   "metadata": {},
   "outputs": [
    {
     "name": "stdout",
     "output_type": "stream",
     "text": [
      "2010-05-19 00:00:00\n",
      "2008-01-02 00:00:00\n",
      "2008-01-02 00:00:00\n",
      "2008-01-02 00:00:00\n"
     ]
    }
   ],
   "source": [
    "for tick in data_yf:\n",
    "    print(tick.index[0])"
   ]
  },
  {
   "cell_type": "code",
   "execution_count": 7,
   "id": "0d022928",
   "metadata": {},
   "outputs": [],
   "source": [
    "data_csv = [] # empty list of the historical price series from 'csv' files\n",
    "for tick in tickers:\n",
    "    data_csv.append(prices(ticker=tick, source='csv')) # using 'csv' files as data source"
   ]
  },
  {
   "cell_type": "code",
   "execution_count": 8,
   "id": "101d31be",
   "metadata": {},
   "outputs": [
    {
     "name": "stdout",
     "output_type": "stream",
     "text": [
      "2010-05-26 00:00:00\n",
      "2007-06-20 00:00:00\n",
      "2016-07-25 00:00:00\n",
      "2007-03-20 00:00:00\n"
     ]
    }
   ],
   "source": [
    "for tick in data_csv:\n",
    "    print(tick.index[0])"
   ]
  },
  {
   "cell_type": "markdown",
   "id": "8307c5c8",
   "metadata": {},
   "source": [
    "Whatever the data source is, these assets have been launched at different dates. Therefore, I need to find a common starting date, that is the date of the most recently launched asset.\n",
    "\n",
    "Using `join = 'inner'` when concatenating the historical series, will give a DataFrame with all series starting from a common date (the launch date of the most recently launched asset)."
   ]
  },
  {
   "cell_type": "code",
   "execution_count": 9,
   "id": "e28ba909",
   "metadata": {},
   "outputs": [
    {
     "data": {
      "text/html": [
       "<div>\n",
       "<style scoped>\n",
       "    .dataframe tbody tr th:only-of-type {\n",
       "        vertical-align: middle;\n",
       "    }\n",
       "\n",
       "    .dataframe tbody tr th {\n",
       "        vertical-align: top;\n",
       "    }\n",
       "\n",
       "    .dataframe thead th {\n",
       "        text-align: right;\n",
       "    }\n",
       "</style>\n",
       "<table border=\"1\" class=\"dataframe\">\n",
       "  <thead>\n",
       "    <tr style=\"text-align: right;\">\n",
       "      <th></th>\n",
       "      <th>CSSPX</th>\n",
       "      <th>PHAU</th>\n",
       "      <th>EM710</th>\n",
       "      <th>ITPS</th>\n",
       "    </tr>\n",
       "    <tr>\n",
       "      <th>Date</th>\n",
       "      <th></th>\n",
       "      <th></th>\n",
       "      <th></th>\n",
       "      <th></th>\n",
       "    </tr>\n",
       "  </thead>\n",
       "  <tbody>\n",
       "    <tr>\n",
       "      <th>2010-05-19</th>\n",
       "      <td>72.849998</td>\n",
       "      <td>95.830002</td>\n",
       "      <td>122.160004</td>\n",
       "      <td>133.350006</td>\n",
       "    </tr>\n",
       "    <tr>\n",
       "      <th>2010-05-20</th>\n",
       "      <td>72.849998</td>\n",
       "      <td>95.070000</td>\n",
       "      <td>122.199997</td>\n",
       "      <td>132.089996</td>\n",
       "    </tr>\n",
       "    <tr>\n",
       "      <th>2010-05-21</th>\n",
       "      <td>72.849998</td>\n",
       "      <td>93.260002</td>\n",
       "      <td>122.349998</td>\n",
       "      <td>130.199997</td>\n",
       "    </tr>\n",
       "    <tr>\n",
       "      <th>2010-05-24</th>\n",
       "      <td>72.849998</td>\n",
       "      <td>95.139999</td>\n",
       "      <td>122.519997</td>\n",
       "      <td>132.380005</td>\n",
       "    </tr>\n",
       "    <tr>\n",
       "      <th>2010-05-25</th>\n",
       "      <td>72.849998</td>\n",
       "      <td>96.599998</td>\n",
       "      <td>122.690002</td>\n",
       "      <td>134.350006</td>\n",
       "    </tr>\n",
       "  </tbody>\n",
       "</table>\n",
       "</div>"
      ],
      "text/plain": [
       "                CSSPX       PHAU       EM710        ITPS\n",
       "Date                                                    \n",
       "2010-05-19  72.849998  95.830002  122.160004  133.350006\n",
       "2010-05-20  72.849998  95.070000  122.199997  132.089996\n",
       "2010-05-21  72.849998  93.260002  122.349998  130.199997\n",
       "2010-05-24  72.849998  95.139999  122.519997  132.380005\n",
       "2010-05-25  72.849998  96.599998  122.690002  134.350006"
      ]
     },
     "execution_count": 9,
     "metadata": {},
     "output_type": "execute_result"
    }
   ],
   "source": [
    "pd.concat(data_yf, axis=1, join='inner').head()"
   ]
  },
  {
   "cell_type": "code",
   "execution_count": 10,
   "id": "1b7b5251",
   "metadata": {},
   "outputs": [
    {
     "name": "stdout",
     "output_type": "stream",
     "text": [
      "<class 'pandas.core.frame.DataFrame'>\n",
      "DatetimeIndex: 3783 entries, 2010-05-19 to 2025-04-04\n",
      "Data columns (total 4 columns):\n",
      " #   Column  Non-Null Count  Dtype  \n",
      "---  ------  --------------  -----  \n",
      " 0   CSSPX   3783 non-null   float64\n",
      " 1   PHAU    3783 non-null   float64\n",
      " 2   EM710   3783 non-null   float64\n",
      " 3   ITPS    3783 non-null   float64\n",
      "dtypes: float64(4)\n",
      "memory usage: 147.8 KB\n"
     ]
    }
   ],
   "source": [
    "pd.concat(data_yf, axis=1, join='inner').info()"
   ]
  },
  {
   "cell_type": "code",
   "execution_count": 11,
   "id": "e9029614",
   "metadata": {},
   "outputs": [
    {
     "data": {
      "text/html": [
       "<div>\n",
       "<style scoped>\n",
       "    .dataframe tbody tr th:only-of-type {\n",
       "        vertical-align: middle;\n",
       "    }\n",
       "\n",
       "    .dataframe tbody tr th {\n",
       "        vertical-align: top;\n",
       "    }\n",
       "\n",
       "    .dataframe thead th {\n",
       "        text-align: right;\n",
       "    }\n",
       "</style>\n",
       "<table border=\"1\" class=\"dataframe\">\n",
       "  <thead>\n",
       "    <tr style=\"text-align: right;\">\n",
       "      <th></th>\n",
       "      <th>CSSPX</th>\n",
       "      <th>PHAU</th>\n",
       "      <th>EM710</th>\n",
       "      <th>ITPS</th>\n",
       "    </tr>\n",
       "    <tr>\n",
       "      <th>Date</th>\n",
       "      <th></th>\n",
       "      <th></th>\n",
       "      <th></th>\n",
       "      <th></th>\n",
       "    </tr>\n",
       "  </thead>\n",
       "  <tbody>\n",
       "    <tr>\n",
       "      <th>2016-07-25</th>\n",
       "      <td>185.15</td>\n",
       "      <td>115.90</td>\n",
       "      <td>174.42</td>\n",
       "      <td>184.59</td>\n",
       "    </tr>\n",
       "    <tr>\n",
       "      <th>2016-07-26</th>\n",
       "      <td>184.96</td>\n",
       "      <td>115.95</td>\n",
       "      <td>174.31</td>\n",
       "      <td>184.42</td>\n",
       "    </tr>\n",
       "    <tr>\n",
       "      <th>2016-07-27</th>\n",
       "      <td>185.05</td>\n",
       "      <td>116.47</td>\n",
       "      <td>174.80</td>\n",
       "      <td>184.57</td>\n",
       "    </tr>\n",
       "    <tr>\n",
       "      <th>2016-07-28</th>\n",
       "      <td>183.15</td>\n",
       "      <td>116.19</td>\n",
       "      <td>174.82</td>\n",
       "      <td>183.81</td>\n",
       "    </tr>\n",
       "    <tr>\n",
       "      <th>2016-07-29</th>\n",
       "      <td>182.86</td>\n",
       "      <td>116.36</td>\n",
       "      <td>175.36</td>\n",
       "      <td>183.10</td>\n",
       "    </tr>\n",
       "  </tbody>\n",
       "</table>\n",
       "</div>"
      ],
      "text/plain": [
       "             CSSPX    PHAU   EM710    ITPS\n",
       "Date                                      \n",
       "2016-07-25  185.15  115.90  174.42  184.59\n",
       "2016-07-26  184.96  115.95  174.31  184.42\n",
       "2016-07-27  185.05  116.47  174.80  184.57\n",
       "2016-07-28  183.15  116.19  174.82  183.81\n",
       "2016-07-29  182.86  116.36  175.36  183.10"
      ]
     },
     "execution_count": 11,
     "metadata": {},
     "output_type": "execute_result"
    }
   ],
   "source": [
    "pd.concat(data_csv, axis=1, join='inner').head()"
   ]
  },
  {
   "cell_type": "code",
   "execution_count": 12,
   "id": "3897834e",
   "metadata": {},
   "outputs": [
    {
     "name": "stdout",
     "output_type": "stream",
     "text": [
      "<class 'pandas.core.frame.DataFrame'>\n",
      "DatetimeIndex: 2211 entries, 2016-07-25 to 2025-04-04\n",
      "Data columns (total 4 columns):\n",
      " #   Column  Non-Null Count  Dtype  \n",
      "---  ------  --------------  -----  \n",
      " 0   CSSPX   2211 non-null   float64\n",
      " 1   PHAU    2211 non-null   float64\n",
      " 2   EM710   2211 non-null   float64\n",
      " 3   ITPS    2211 non-null   float64\n",
      "dtypes: float64(4)\n",
      "memory usage: 86.4 KB\n"
     ]
    }
   ],
   "source": [
    "pd.concat(data_csv, axis=1, join='inner').info()"
   ]
  },
  {
   "cell_type": "markdown",
   "id": "af6bae40",
   "metadata": {},
   "source": [
    "#### 2. Putting all together in one function\n",
    "\n",
    "I want to create a function that takes all asset historical price series and arrange them into a DataFrame. Each column reports the asset's price. The index are the dates starting from a common starting date (determined by the 'inner' join)."
   ]
  },
  {
   "cell_type": "code",
   "execution_count": 13,
   "id": "4aca1714",
   "metadata": {},
   "outputs": [],
   "source": [
    "def portfolio_prices(data):\n",
    "    \"\"\"Structures in a DataFrame daily price data of tickers in portfolio starting from a common date.\n",
    "    \n",
    "    Args:\n",
    "        data (list): List of pd.Series per each ticker historical prices.\n",
    "\n",
    "    Returns:\n",
    "        pandas.DataFrame: daily price data of tickers in portfolio, indexed by date.\n",
    "    \n",
    "    \"\"\"\n",
    "    return pd.concat(data, axis=1, join='inner')"
   ]
  },
  {
   "cell_type": "code",
   "execution_count": 14,
   "id": "ec552df4",
   "metadata": {},
   "outputs": [
    {
     "data": {
      "text/plain": [
       "<Axes: xlabel='Date'>"
      ]
     },
     "execution_count": 14,
     "metadata": {},
     "output_type": "execute_result"
    },
    {
     "data": {
      "image/png": "[encoded data removed]",
      "text/plain": [
       "<Figure size 640x480 with 1 Axes>"
      ]
     },
     "metadata": {},
     "output_type": "display_data"
    }
   ],
   "source": [
    "portfolio_prices(data_yf).plot()"
   ]
  },
  {
   "cell_type": "markdown",
   "id": "98c5adba",
   "metadata": {},
   "source": [
    "### Summary\n",
    "\n",
    "In this chapter we have addressed the problem of taking historical prices series of different tickers in a portfolio and arranged them in one DataFrame with a common starting date.\n",
    "\n",
    "We used `join = 'inner'` in the function `portfolio_prices` to concatenate the historical price series in one DataFrame with all series starting from a common date (the launch date of the most recently launched asset). \n"
   ]
  },
  {
   "cell_type": "code",
   "execution_count": 15,
   "id": "6e95ba81",
   "metadata": {},
   "outputs": [
    {
     "data": {
      "text/html": [
       "<div>\n",
       "<style scoped>\n",
       "    .dataframe tbody tr th:only-of-type {\n",
       "        vertical-align: middle;\n",
       "    }\n",
       "\n",
       "    .dataframe tbody tr th {\n",
       "        vertical-align: top;\n",
       "    }\n",
       "\n",
       "    .dataframe thead th {\n",
       "        text-align: right;\n",
       "    }\n",
       "</style>\n",
       "<table border=\"1\" class=\"dataframe\">\n",
       "  <thead>\n",
       "    <tr style=\"text-align: right;\">\n",
       "      <th></th>\n",
       "      <th>CSSPX</th>\n",
       "      <th>PHAU</th>\n",
       "      <th>EM710</th>\n",
       "      <th>ITPS</th>\n",
       "    </tr>\n",
       "    <tr>\n",
       "      <th>Date</th>\n",
       "      <th></th>\n",
       "      <th></th>\n",
       "      <th></th>\n",
       "      <th></th>\n",
       "    </tr>\n",
       "  </thead>\n",
       "  <tbody>\n",
       "    <tr>\n",
       "      <th>2010-05-19</th>\n",
       "      <td>72.849998</td>\n",
       "      <td>95.830002</td>\n",
       "      <td>122.160004</td>\n",
       "      <td>133.350006</td>\n",
       "    </tr>\n",
       "    <tr>\n",
       "      <th>2010-05-20</th>\n",
       "      <td>72.849998</td>\n",
       "      <td>95.070000</td>\n",
       "      <td>122.199997</td>\n",
       "      <td>132.089996</td>\n",
       "    </tr>\n",
       "    <tr>\n",
       "      <th>2010-05-21</th>\n",
       "      <td>72.849998</td>\n",
       "      <td>93.260002</td>\n",
       "      <td>122.349998</td>\n",
       "      <td>130.199997</td>\n",
       "    </tr>\n",
       "    <tr>\n",
       "      <th>2010-05-24</th>\n",
       "      <td>72.849998</td>\n",
       "      <td>95.139999</td>\n",
       "      <td>122.519997</td>\n",
       "      <td>132.380005</td>\n",
       "    </tr>\n",
       "    <tr>\n",
       "      <th>2010-05-25</th>\n",
       "      <td>72.849998</td>\n",
       "      <td>96.599998</td>\n",
       "      <td>122.690002</td>\n",
       "      <td>134.350006</td>\n",
       "    </tr>\n",
       "  </tbody>\n",
       "</table>\n",
       "</div>"
      ],
      "text/plain": [
       "                CSSPX       PHAU       EM710        ITPS\n",
       "Date                                                    \n",
       "2010-05-19  72.849998  95.830002  122.160004  133.350006\n",
       "2010-05-20  72.849998  95.070000  122.199997  132.089996\n",
       "2010-05-21  72.849998  93.260002  122.349998  130.199997\n",
       "2010-05-24  72.849998  95.139999  122.519997  132.380005\n",
       "2010-05-25  72.849998  96.599998  122.690002  134.350006"
      ]
     },
     "execution_count": 15,
     "metadata": {},
     "output_type": "execute_result"
    }
   ],
   "source": [
    "# create a list of portfolio tickers\n",
    "tickers = ['CSSPX','PHAU','EM710','ITPS']\n",
    "\n",
    "# create a list of pd.Series with each ticker's historical prices\n",
    "data = [] # empty list of the historical price series\n",
    "for tick in tickers:\n",
    "    data.append(prices(ticker=tick, source='yf')) # using 'yf' as data source\n",
    "\n",
    "# create the DataFrame with all historical prices of tickers in portfolio\n",
    "portfolio_prices = portfolio_prices(data)\n",
    "\n",
    "portfolio_prices.head()\n"
   ]
  }
 ],
 "metadata": {
  "kernelspec": {
   "display_name": "base",
   "language": "python",
   "name": "python3"
  },
  "language_info": {
   "codemirror_mode": {
    "name": "ipython",
    "version": 3
   },
   "file_extension": ".py",
   "mimetype": "text/x-python",
   "name": "python",
   "nbconvert_exporter": "python",
   "pygments_lexer": "ipython3",
   "version": "3.11.7"
  }
 },
 "nbformat": 4,
 "nbformat_minor": 5
}
